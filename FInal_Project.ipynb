{
 "cells": [
  {
   "cell_type": "markdown",
   "id": "63b634a3-2ad5-48fc-8bf4-707d24a6114a",
   "metadata": {},
   "source": [
    "#### 1. Import Libraries"
   ]
  },
  {
   "cell_type": "code",
   "execution_count": 5,
   "id": "5455ddc1-3c0b-43da-8cf4-50014947f48d",
   "metadata": {},
   "outputs": [],
   "source": [
    "import pandas as pd\n",
    "import numpy as np\n",
    "import matplotlib.pyplot as plt\n",
    "\n",
    "\n",
    "import argparse\n",
    "import os\n",
    "import random\n",
    "\n",
    "import torch\n",
    "import torch.nn as nn\n",
    "\n",
    "import torchvision\n",
    "import torchvision.transforms as transforms\n",
    "import torchvision.utils as utils\n",
    "\n",
    "from torch.utils.data import Dataset, DataLoader\n",
    "from PIL import Image\n",
    "\n",
    "import requests, sys, cv2\n"
   ]
  },
  {
   "cell_type": "markdown",
   "id": "b4df19e5-31ea-444e-988c-4275c674080e",
   "metadata": {},
   "source": [
    "Download the dataset from miniImageNet"
   ]
  },
  {
   "cell_type": "code",
   "execution_count": 2,
   "id": "a3b204d3-5860-4a52-8138-331b543f75b5",
   "metadata": {},
   "outputs": [],
   "source": [
    "import gdown, tarfile\n",
    "\n",
    "url = 'https://drive.google.com/uc?id=107FTosYIeBn5QbynR46YG91nHcJ70whs'\n",
    "path = './Data/miniImageNet/'\n",
    "output = './Data/miniImageNet/train.tar'\n",
    "\n",
    "if not os.path.exists(path):\n",
    "    os.mkdir(path)\n",
    "\n",
    "if not os.path.exists(output):\n",
    "    gdown.download(url, output, quiet=False)\n",
    "\n",
    "    with tarfile.open(output, 'r') as tar:\n",
    "        tar.extractall(path)"
   ]
  },
  {
   "cell_type": "markdown",
   "id": "f7a334de-649c-4358-84d0-96c81bb32082",
   "metadata": {},
   "source": [
    "Download the dataset from EuroSAT(RGB)"
   ]
  },
  {
   "cell_type": "code",
   "execution_count": 3,
   "id": "7ecde529-cf04-422d-be72-d60d7b22eb20",
   "metadata": {},
   "outputs": [],
   "source": [
    "import zipfile\n",
    "\n",
    "link = 'https://zenodo.org/records/7711810/files/EuroSAT_RGB.zip?download=1'\n",
    "destination = './Data/EuroSAT_RGB.zip'\n",
    "\n",
    "if not os.path.exists(destination): \n",
    "  # Send a GET request to the URL\n",
    "  response = requests.get(link)\n",
    "\n",
    "  # Check if the request was successful (status code 200)\n",
    "  if response.status_code == 200:\n",
    "      with open(destination, 'wb') as file:\n",
    "          file.write(response.content)\n",
    "\n",
    "      with zipfile.ZipFile(destination, 'r') as zip_ref:\n",
    "              zip_ref.extractall('./Data')\n",
    "\n",
    "      print(f\"EuroSAT_RGB downloaded successfully to '{destination}'.\")\n",
    "  else:\n",
    "      print(f\"Failed to download EuroSAT_RGB. Status code: {response.status_code}\")"
   ]
  },
  {
   "cell_type": "markdown",
   "id": "52286835-a1e4-4154-ae47-5a01709c67a2",
   "metadata": {},
   "source": [
    "#### 2. Create Datasets\n",
    "\n",
    "In this section I will create a dataLoader for EuroSAT_RGB and miniImageNet dataset"
   ]
  },
  {
   "cell_type": "code",
   "execution_count": 6,
   "id": "ad07e8f7-afff-4d99-aee7-1aac88b4d079",
   "metadata": {},
   "outputs": [],
   "source": [
    "import pathlib \n",
    "import math\n",
    "\n",
    "train_data_dir_path = './Data/miniImageNet/train/'\n",
    "miniImageNet_data_dir = pathlib.Path(train_data_dir_path)\n",
    "\n",
    "# Dataset uses the folder name as its labels\n",
    "subfolder_names = [subfolder.name for subfolder in miniImageNet_data_dir.glob('*') if subfolder.is_dir()]\n",
    "\n",
    "train_indices = []\n",
    "valid_indices = []\n",
    "test_indices = []\n",
    "\n",
    "all_data = []\n",
    "all_data_labels = []\n",
    "\n",
    "for subfolder in miniImageNet_data_dir.iterdir():\n",
    "  label_name = subfolder.name\n",
    "  count = 0 #This count keeps track of the images count for a particular class\n",
    "\n",
    "  for item in subfolder.iterdir():\n",
    "    img = np.array(cv2.imread(str(item)))/255\n",
    "    all_data.append(img)\n",
    "    all_data_labels.append(label_name)\n",
    "    count +=1\n",
    "  all_data_size = len(all_data)\n",
    "\n",
    "  # get train indices\n",
    "  start_index = all_data_size - count\n",
    "  end_index = start_index + math.ceil(count * 0.6)\n",
    "  train_indices.extend(range(start_index, end_index, 1))\n",
    "\n",
    "  # get validation indices\n",
    "  start_index = end_index + 1\n",
    "  end_index = start_index + math.ceil(count * 0.2)\n",
    "  valid_indices.extend(range(start_index, end_index, 1))\n",
    "\n",
    "  # get test indices\n",
    "  start_index = end_index + 1\n",
    "  end_index = start_index + math.ceil(count * 0.2)\n",
    "  test_indices.extend(range(start_index, end_index, 1))\n",
    "\n",
    "\n",
    "class MiniImageNet(Dataset):\n",
    "  \n",
    "  def __init__(self, phase=\"train\", transform=None):\n",
    "\n",
    "    all_data_np = np.array(all_data)\n",
    "    all_data_labels_np = np.array(all_data_labels)\n",
    "    if 'train' == phase:\n",
    "        self.data = all_data_np[train_indices]\n",
    "        self.labels = all_data_labels_np[train_indices]\n",
    "\n",
    "    elif 'valid' == phase:\n",
    "        self.data = all_data_np[valid_indices]\n",
    "        self.labels = all_data_labels_np[valid_indices]\n",
    "\n",
    "    elif 'test' == phase:\n",
    "        self.data = all_data_np[test_indices]\n",
    "        self.labels = all_data_labels_np[test_indices]\n",
    "\n",
    "    else:\n",
    "        assert True, 'wrong phase'\n",
    "  \n",
    "    self.transform = transform \n",
    "    \n",
    "    self.label_names = subfolder_names\n",
    "\n",
    "  def __len__(self):\n",
    "      return len(self.data)\n",
    "\n",
    "  def __getitem__(self, index):\n",
    "      \n",
    "      img, label = self.data[index], self.labels[index]\n",
    "\n",
    "      img = Image.fromarray(img, mode='L')\n",
    "\n",
    "      if self.transform is not None:\n",
    "          img = self.transform(img)\n",
    "\n",
    "      return img, label\n"
   ]
  },
  {
   "cell_type": "code",
   "execution_count": 7,
   "id": "9f24b6ea-5af5-4a74-8ac7-c3b40b21cf3f",
   "metadata": {},
   "outputs": [
    {
     "ename": "KeyboardInterrupt",
     "evalue": "",
     "output_type": "error",
     "traceback": [
      "\u001b[0;31m---------------------------------------------------------------------------\u001b[0m",
      "\u001b[0;31mKeyboardInterrupt\u001b[0m                         Traceback (most recent call last)",
      "Cell \u001b[0;32mIn[7], line 7\u001b[0m\n\u001b[1;32m      4\u001b[0m train_set \u001b[38;5;241m=\u001b[39m MiniImageNet(phase\u001b[38;5;241m=\u001b[39m\u001b[38;5;124m'\u001b[39m\u001b[38;5;124mtrain\u001b[39m\u001b[38;5;124m'\u001b[39m, transform\u001b[38;5;241m=\u001b[39mdata_transform) \n\u001b[1;32m      5\u001b[0m train_loader \u001b[38;5;241m=\u001b[39m DataLoader(train_set, batch_size\u001b[38;5;241m=\u001b[39m\u001b[38;5;241m64\u001b[39m, shuffle\u001b[38;5;241m=\u001b[39m\u001b[38;5;28;01mTrue\u001b[39;00m, num_workers\u001b[38;5;241m=\u001b[39m\u001b[38;5;241m2\u001b[39m)\n\u001b[0;32m----> 7\u001b[0m valid_set \u001b[38;5;241m=\u001b[39m \u001b[43mMiniImageNet\u001b[49m\u001b[43m(\u001b[49m\u001b[43mphase\u001b[49m\u001b[38;5;241;43m=\u001b[39;49m\u001b[38;5;124;43m'\u001b[39;49m\u001b[38;5;124;43mvalid\u001b[39;49m\u001b[38;5;124;43m'\u001b[39;49m\u001b[43m,\u001b[49m\u001b[43m \u001b[49m\u001b[43mtransform\u001b[49m\u001b[38;5;241;43m=\u001b[39;49m\u001b[43mdata_transform\u001b[49m\u001b[43m)\u001b[49m \n\u001b[1;32m      8\u001b[0m valid_loader \u001b[38;5;241m=\u001b[39m DataLoader(valid_set, batch_size\u001b[38;5;241m=\u001b[39m\u001b[38;5;241m64\u001b[39m, shuffle\u001b[38;5;241m=\u001b[39m\u001b[38;5;28;01mTrue\u001b[39;00m, num_workers\u001b[38;5;241m=\u001b[39m\u001b[38;5;241m2\u001b[39m)\n\u001b[1;32m     10\u001b[0m test_set \u001b[38;5;241m=\u001b[39m MiniImageNet(phase\u001b[38;5;241m=\u001b[39m\u001b[38;5;124m'\u001b[39m\u001b[38;5;124mtest\u001b[39m\u001b[38;5;124m'\u001b[39m, transform\u001b[38;5;241m=\u001b[39mdata_transform) \n",
      "Cell \u001b[0;32mIn[6], line 48\u001b[0m, in \u001b[0;36mMiniImageNet.__init__\u001b[0;34m(self, phase, transform)\u001b[0m\n\u001b[1;32m     46\u001b[0m \u001b[38;5;28;01mdef\u001b[39;00m \u001b[38;5;21m__init__\u001b[39m(\u001b[38;5;28mself\u001b[39m, phase\u001b[38;5;241m=\u001b[39m\u001b[38;5;124m\"\u001b[39m\u001b[38;5;124mtrain\u001b[39m\u001b[38;5;124m\"\u001b[39m, transform\u001b[38;5;241m=\u001b[39m\u001b[38;5;28;01mNone\u001b[39;00m):\n\u001b[0;32m---> 48\u001b[0m   all_data_np \u001b[38;5;241m=\u001b[39m \u001b[43mnp\u001b[49m\u001b[38;5;241;43m.\u001b[39;49m\u001b[43marray\u001b[49m\u001b[43m(\u001b[49m\u001b[43mall_data\u001b[49m\u001b[43m)\u001b[49m\n\u001b[1;32m     49\u001b[0m   all_data_labels_np \u001b[38;5;241m=\u001b[39m np\u001b[38;5;241m.\u001b[39marray(all_data_labels)\n\u001b[1;32m     50\u001b[0m   \u001b[38;5;28;01mif\u001b[39;00m \u001b[38;5;124m'\u001b[39m\u001b[38;5;124mtrain\u001b[39m\u001b[38;5;124m'\u001b[39m \u001b[38;5;241m==\u001b[39m phase:\n",
      "\u001b[0;31mKeyboardInterrupt\u001b[0m: "
     ]
    }
   ],
   "source": [
    "# Set batch_size to 64, shuffling the training set. Number of workers here is set to 2\n",
    "data_transform = transforms.Compose([transforms.ToTensor()])\n",
    "\n",
    "train_set = MiniImageNet(phase='train', transform=data_transform) \n",
    "train_loader = DataLoader(train_set, batch_size=64, shuffle=True, num_workers=2)\n",
    "\n",
    "valid_set = MiniImageNet(phase='valid', transform=data_transform) \n",
    "valid_loader = DataLoader(valid_set, batch_size=64, shuffle=True, num_workers=2)\n",
    "\n",
    "test_set = MiniImageNet(phase='test', transform=data_transform) \n",
    "test_loader = DataLoader(test_set, batch_size=64, shuffle=True, num_workers=2)"
   ]
  },
  {
   "cell_type": "code",
   "execution_count": null,
   "id": "7d56f826-8ade-4590-a3c8-b26e711ed79a",
   "metadata": {},
   "outputs": [],
   "source": []
  }
 ],
 "metadata": {
  "kernelspec": {
   "display_name": "Python 3 (ipykernel)",
   "language": "python",
   "name": "python3"
  },
  "language_info": {
   "codemirror_mode": {
    "name": "ipython",
    "version": 3
   },
   "file_extension": ".py",
   "mimetype": "text/x-python",
   "name": "python",
   "nbconvert_exporter": "python",
   "pygments_lexer": "ipython3",
   "version": "3.11.5"
  }
 },
 "nbformat": 4,
 "nbformat_minor": 5
}
